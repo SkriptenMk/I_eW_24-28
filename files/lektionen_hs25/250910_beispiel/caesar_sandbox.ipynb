{
 "cells": [
  {
   "cell_type": "markdown",
   "id": "b8f70275",
   "metadata": {},
   "source": [
    "## File reader"
   ]
  },
  {
   "cell_type": "code",
   "execution_count": 15,
   "id": "dc64f6cc",
   "metadata": {},
   "outputs": [],
   "source": [
    "import string"
   ]
  },
  {
   "cell_type": "code",
   "execution_count": 14,
   "id": "9ddc27c6",
   "metadata": {},
   "outputs": [
    {
     "name": "stdout",
     "output_type": "stream",
     "text": [
      "INTHEBEGINNINGWASTHEWORDANDTHEWORDWASWITHGODANDTHEWORDWASGODTHESAMEWASINTHEBEGINNINGWITHGODALLTHINGSWEREMADEBYHIMANDWITHOUTHIMWASNOTANYTHINGMADETHATWASMADEINHIMWASLIFEANDTHELIFEWASTHELIGHTOFMENANDTHELIGHTSHINETHINDARKNESSANDTHEDARKNESSCOMPREHENDEDITNOT\n"
     ]
    }
   ],
   "source": [
    "with open('input.txt', 'r', encoding='utf-8') as file:\n",
    "    text = file.read()\n",
    "    \n",
    "text = text.replace('\\n', '').replace('\\r', '').replace('\\t', '')\n",
    "text = text.replace(' ','')\n",
    "text = text.upper()\n",
    "for zeichen in string.punctuation:\n",
    "    text = text.replace(zeichen, '')\n",
    "    \n",
    "print(text)"
   ]
  },
  {
   "cell_type": "code",
   "execution_count": 16,
   "id": "42e38213",
   "metadata": {},
   "outputs": [],
   "source": [
    "def caesar_decrypt_mod(plain, shift):\n",
    "    cipher = \"\"\n",
    "    \n",
    "    for char in plain:\n",
    "        shifted = (ord(char) - ord('A') - shift) % 26 + ord('A')\n",
    "        cipher += chr(shifted)\n",
    "        \n",
    "    return cipher"
   ]
  },
  {
   "cell_type": "code",
   "execution_count": 17,
   "id": "1dea94aa",
   "metadata": {},
   "outputs": [
    {
     "name": "stdout",
     "output_type": "stream",
     "text": [
      "BGMAXUXZBGGBGZPTLMAXPHKWTGWMAXPHKWPTLPBMAZHWTGWMAXPHKWPTLZHWMAXLTFXPTLBGMAXUXZBGGBGZPBMAZHWTEEMABGZLPXKXFTWXURABFTGWPBMAHNMABFPTLGHMTGRMABGZFTWXMATMPTLFTWXBGABFPTLEBYXTGWMAXEBYXPTLMAXEBZAMHYFXGTGWMAXEBZAMLABGXMABGWTKDGXLLTGWMAXWTKDGXLLVHFIKXAXGWXWBMGHM\n"
     ]
    }
   ],
   "source": [
    "cipher = caesar_decrypt_mod(text, 7)\n",
    "\n",
    "print(cipher)"
   ]
  },
  {
   "cell_type": "code",
   "execution_count": 18,
   "id": "5c0962a4",
   "metadata": {},
   "outputs": [],
   "source": [
    "with open('cipher.txt', 'w', encoding='utf-8') as file:\n",
    "    file.write(cipher)"
   ]
  },
  {
   "cell_type": "code",
   "execution_count": null,
   "id": "ab5c7c21",
   "metadata": {},
   "outputs": [],
   "source": []
  }
 ],
 "metadata": {
  "kernelspec": {
   "display_name": ".venv",
   "language": "python",
   "name": "python3"
  },
  "language_info": {
   "codemirror_mode": {
    "name": "ipython",
    "version": 3
   },
   "file_extension": ".py",
   "mimetype": "text/x-python",
   "name": "python",
   "nbconvert_exporter": "python",
   "pygments_lexer": "ipython3",
   "version": "3.13.5"
  }
 },
 "nbformat": 4,
 "nbformat_minor": 5
}
