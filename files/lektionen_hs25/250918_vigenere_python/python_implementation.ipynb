{
 "cells": [
  {
   "cell_type": "markdown",
   "id": "e18d2594",
   "metadata": {},
   "source": [
    "# Vigenère Cipher Implementation in Python"
   ]
  },
  {
   "cell_type": "markdown",
   "id": "d384340a",
   "metadata": {},
   "source": [
    "This notebook presents a possible implementation of the Vigenère cipher in Python."
   ]
  },
  {
   "cell_type": "code",
   "execution_count": null,
   "id": "c1fd7eb8",
   "metadata": {},
   "outputs": [],
   "source": [
    "def vigenere(text: str, key: str, mode: str) -> str:\n",
    "    \"\"\"Encrypts or decrypts a given text using the Vigenère cipher.\n",
    "\n",
    "    The function processes a string of uppercase alphabetic characters\n",
    "    using a provided key for encryption or decryption.\n",
    "\n",
    "    Args:\n",
    "        text: The string to be encrypted or decrypted. It should only contain\n",
    "              uppercase alphabetic characters (A-Z).\n",
    "        key: The key for the cipher. It should also only contain\n",
    "             uppercase alphabetic characters (A-Z).\n",
    "        mode: The operation to perform, must be 'encrypt' or 'decrypt'.\n",
    "\n",
    "    Returns:\n",
    "        The resulting ciphertext or plaintext.\n",
    "\n",
    "    Raises:\n",
    "        ValueError: If the mode is not 'encrypt' or 'decrypt'.\n",
    "    \"\"\"\n",
    "\n",
    "    # Ensure the mode is valid before proceeding.\n",
    "    if mode not in ['encrypt', 'decrypt']:\n",
    "        raise ValueError(\"Mode must be 'encrypt' or 'decrypt'\")\n",
    "    \n",
    "    key_length = len(key)\n",
    "    \n",
    "    if mode == 'encrypt':\n",
    "       cipher = ''\n",
    "       # Iterate through each character of the input text.\n",
    "       for i, char in enumerate(text):\n",
    "           # Convert the current text character and the corresponding key \n",
    "           # character to a number (0-25).\n",
    "           # The key character is determined using modulo to cycle through \n",
    "           # the key.\n",
    "           char_num = ord(char) - ord('A')\n",
    "           key_num = ord(key[i % key_length]) - ord('A')\n",
    "           \n",
    "           # Calculate the new character's number using the Vigenère encryption formula.\n",
    "           # The modulo operator ensures the result stays within the range 0-25.\n",
    "           cipher_num = (char_num + key_num) % 26\n",
    "           \n",
    "           # Convert the resulting number back to an uppercase character and append it.\n",
    "           cipher += chr(cipher_num + ord('A'))\n",
    "       return cipher  \n",
    "    else:  # mode == 'decrypt'\n",
    "        plain = ''\n",
    "        # Iterate through each character of the input text.\n",
    "        for i, char in enumerate(text):\n",
    "            # Convert the current text character and the corresponding key \n",
    "            # character to a number (0-25).\n",
    "            char_num = ord(char) - ord('A')\n",
    "            key_num = ord(key[i % key_length]) - ord('A')\n",
    "            \n",
    "            # Calculate the new character's number using the Vigenère \n",
    "            # decryption formula.\n",
    "            # The modulo operator handles negative results, ensuring the \n",
    "            # result is correct.\n",
    "            plain_num = (char_num - key_num) % 26\n",
    "            \n",
    "            # Convert the resulting number back to an uppercase \n",
    "            # character and append it.\n",
    "            plain += chr(plain_num + ord('A'))\n",
    "        return plain"
   ]
  },
  {
   "cell_type": "markdown",
   "id": "2f7cec52",
   "metadata": {},
   "source": [
    "The `vigenere()` function is explained in detail below."
   ]
  },
  {
   "cell_type": "markdown",
   "id": "48041add",
   "metadata": {},
   "source": [
    "The function signature\n",
    "\n",
    "```python\n",
    "def vigenere(text: str, key: str, mode: str) -> str:\n",
    "```\n",
    "\n",
    "shows that the function expects three parameters:\n",
    "* `text`: The string to be encrypted or decrypted.\n",
    "* `key`: The key for encryption or decryption as a string.\n",
    "* `mode`: The mode that specifies whether the text should be encrypted or\n",
    "  decrypted. Possible values are `'encrypt'` for\n",
    "  encryption and `'decrypt'` for decryption (although this is\n",
    "  not directly apparent from the signature)."
   ]
  },
  {
   "cell_type": "markdown",
   "id": "d913434c",
   "metadata": {},
   "source": [
    "Following the signature is a detailed docstring that describes the function and its parameters. Although written in English, it is self-explanatory."
   ]
  },
  {
   "cell_type": "markdown",
   "id": "144ace10",
   "metadata": {},
   "source": [
    "The docstring is followed by a check to see if valid values were passed for the\n",
    "`mode` parameter. If not, a \n",
    "`ValueError` exception is raised.\n",
    "\n",
    "```python\n",
    "if mode not in ['encrypt', 'decrypt']:\n",
    "    raise ValueError(\"Mode must be 'encrypt' or 'decrypt'\")\n",
    "```\n",
    "\n",
    "To perform this check, the allowed values are provided in a\n",
    "list. It then checks if the value assigned to `mode`\n",
    "is contained in the list. If this is not the case,\n",
    "an error message is displayed and the function's execution\n",
    "is terminated."
   ]
  },
  {
   "cell_type": "markdown",
   "id": "117e69d5",
   "metadata": {},
   "source": [
    "If the `mode` parameter contains a valid value, the\n",
    "actual function logic comes into play.\n",
    "\n",
    "First, the length of the key is assigned to the variable `key_length` in\n",
    "\n",
    "```python\n",
    "key_length = len(key)\n",
    "```\n",
    "\n",
    "This information will be needed later\n",
    "to iterate over the key's text in a special type of loop."
   ]
  },
  {
   "cell_type": "markdown",
   "id": "8fd6c9cf",
   "metadata": {},
   "source": [
    "After this assignment, the function splits into the encryption and\n",
    "decryption branches.\n",
    "\n",
    "First, the encryption - initiated with `if mode == 'encrypt':` -\n",
    "is considered."
   ]
  },
  {
   "cell_type": "markdown",
   "id": "7c9c5739",
   "metadata": {},
   "source": [
    "Inside this block, an empty string `cipher` is first\n",
    "initialized, which will later hold the encrypted characters. \n",
    "\n",
    "Then, a `for` loop is used to iterate over the text to be encrypted.\n",
    "\n",
    "```python\n",
    "for i, char in enumerate(text):\n",
    "```\n",
    "\n",
    "In this loop, the `enumerate()` function is used. This\n",
    "function returns a tuple consisting of the index and the respective element of the\n",
    "structure being iterated over. The values of the tuple are assigned to the \n",
    "variables `i` and `char`."
   ]
  },
  {
   "cell_type": "markdown",
   "id": "557c766b",
   "metadata": {},
   "source": [
    "The variables `i` and `char` are used inside the loop to\n",
    "convert the individual characters of the text into a number.\n",
    "\n",
    "```python\n",
    "    char_num = ord(char) - ord('A')\n",
    "    key_num = ord(key[i % key_length]) - ord('A')\n",
    "```\n",
    "\n",
    "The `ord()` function converts a letter into the corresponding number\n",
    "from the ASCII table. To ensure the numbers are in the range of 0 to 25,\n",
    "the ASCII value of the letter 'A' is subtracted. The letter 'A'\n",
    "is used because the characters to be encrypted are specified in uppercase.  \n",
    "Since the key can be shorter than the text to be encrypted,\n",
    "`i % key_length` is used to iterate over the key. The modulo operator\n",
    "`%` ensures that the index value of the used index always stays between\n",
    "0 and the length of the key `key_length`. This ensures\n",
    "that the key is started again from the beginning\n",
    "once the end of the key is reached. The individual letters of the key are then\n",
    "processed in the same way as the\n",
    "letters of the text."
   ]
  },
  {
   "cell_type": "markdown",
   "id": "a27aea61",
   "metadata": {},
   "source": [
    "After the letters of the text and the key have been converted into numbers,\n",
    "the actual encryption is performed according to the\n",
    "formula $C_i = (P_i + K_i)\\ mod\\ 26$.\n",
    "\n",
    "```python\n",
    "    cipher_num = (char_num + key_num) % 26\n",
    "```"
   ]
  },
  {
   "cell_type": "markdown",
   "id": "c76d883e",
   "metadata": {},
   "source": [
    "The numerical values of the encrypted text are then converted back\n",
    "into letters and appended to the string `cipher`. For this,\n",
    "the `chr()` function is used, which converts a number into the corresponding\n",
    "letter of the ASCII table. Since the numerical values are in the range\n",
    "of 0 to 25, the ASCII value of the letter 'A' is added. \n",
    "\n",
    "```python\n",
    "    cipher += chr(cipher_num + ord('A'))\n",
    "```"
   ]
  },
  {
   "cell_type": "markdown",
   "id": "811972b4",
   "metadata": {},
   "source": [
    "The string stored under `cipher` is returned at the end of the block."
   ]
  },
  {
   "cell_type": "markdown",
   "id": "cd94ed38",
   "metadata": {},
   "source": [
    "In the second block, the decryption - initiated with `else:` -\n",
    "is performed. The process is very similar to that of encryption,\n",
    "however, the inverse formula ($P_i = (C_i - K_i + 26)\\ mod\\ 26$) is used here.\n",
    "\n",
    "```python\n",
    "    plain_num = (char_num - key_num + 26) % 26\n",
    "    plain += chr(plain_num + ord('A'))\n",
    "```\n",
    "\n",
    "Everything else corresponds to the procedure for encryption."
   ]
  }
 ],
 "metadata": {
  "kernelspec": {
   "display_name": ".venv",
   "language": "python",
   "name": "python3"
  },
  "language_info": {
   "codemirror_mode": {
    "name": "ipython",
    "version": 3
   },
   "file_extension": ".py",
   "mimetype": "text/x-python",
   "name": "python",
   "nbconvert_exporter": "python",
   "pygments_lexer": "ipython3",
   "version": "3.13.5"
  }
 },
 "nbformat": 4,
 "nbformat_minor": 5
}

