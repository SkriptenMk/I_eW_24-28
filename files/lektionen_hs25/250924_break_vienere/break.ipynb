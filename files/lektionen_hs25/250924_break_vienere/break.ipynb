{
 "cells": [
  {
   "cell_type": "markdown",
   "id": "4f230766",
   "metadata": {},
   "source": [
    "# 11 Breaking the Vigenère Cipher"
   ]
  },
  {
   "cell_type": "markdown",
   "id": "b8062ded",
   "metadata": {},
   "source": [
    "The crucial weakness of the Vigenère cipher was discovered independently\n",
    "by two men in the midst of the 19th century. One of them was Charles\n",
    "Babbage, a British polymath. He discovered the weakness in order to win\n",
    "a bet. The other was Friedrich Wilhelm Kasiski, who was a retired Major\n",
    "of the Prussian army. Who, after retirement, spent his time writing.  \n",
    "The method of breaking the Vigenère cipher is named after Prussian Major\n",
    "Kasiski. "
   ]
  },
  {
   "cell_type": "markdown",
   "id": "45d9387c",
   "metadata": {},
   "source": [
    "## The Kasiski Method - Summary\n",
    "\n",
    "The **Kasiski method** is a technique for breaking the Vigenère cipher by exploiting repeated patterns in the ciphertext. Here's how it works:\n",
    "\n",
    "### Key Principle\n",
    "When the same plaintext sequence is encrypted with the same portion of the key, it produces identical ciphertext sequences. By finding these repetitions, we can determine the key length.\n",
    "\n",
    "### Step-by-Step Process\n",
    "\n",
    "1. **Find Repeated Sequences**\n",
    "   - Scan the ciphertext for identical sequences of 3+ characters\n",
    "   - Record the positions where these sequences occur\n",
    "\n",
    "2. **Calculate Distances**\n",
    "   - Measure the distance between repeated sequences\n",
    "   - The key length must be a divisor of these distances\n",
    "\n",
    "3. **Determine Key Length**\n",
    "   - Find the Greatest Common Divisor (GCD) of all distances\n",
    "   - Or look for the most frequent common factor\n",
    "   - This gives you the probable key length\n",
    "\n",
    "4. **Frequency Analysis**\n",
    "   - Divide the ciphertext into groups based on the key length\n",
    "   - Each group was encrypted with the same key character\n",
    "   - Apply frequency analysis to each group separately\n",
    "   - Match letter frequencies to expected language patterns\n"
   ]
  },
  {
   "cell_type": "markdown",
   "id": "21133aa3",
   "metadata": {},
   "source": [
    "### Example\n",
    "If \"THE\" appears multiple times in plaintext at positions where the key\n",
    "repeats, the corresponding ciphertext sequences will be identical. If\n",
    "these sequences are 10 positions apart, the key length is likely a divisor of\n",
    "10 (1, 2, 5 or 10). \n",
    "\n",
    "For a contrived example, if the plaintext is “the codes in the word and\n",
    "the message”, and the key is “crypt”, then we’d get the following\n",
    "ciphertext.\n",
    "\n",
    "```text\n",
    "p: t h e c o d e s i n t h e w o r d a n d t h e m\n",
    "k: c r y p t c r y p t c r y p t c r y p t c r y p\n",
    "c: V Y C r h f v q x g V Y C l h t u y c w V Y C b\n",
    "```\n",
    "\n",
    "Note that the ciphertext pattern VYC occurs three times in the\n",
    "ciphertext, and each time there is a distance of 10 letters between the\n",
    "beginning of one VYC and the next. This happens because the same pattern\n",
    "of plaintext, “the”, lines up with the same part of the key, “cry”, each\n",
    "time, resulting in the same ciphertext. The repetition of the keyword is\n",
    "the liability here. The ciphertext duplicates are all 10 letters apart.\n",
    "Babbage and Kasiski reasoned that this implies the length of the key is\n",
    "a factor of 10. The factors of 10 are 10, 5, and 2. One could argue that\n",
    "a key of length 2 is too short to provide much security, so that a key\n",
    "of length 5 or 10 is more reasonable. A key of length 10 is unlikely to\n",
    "have as many repetitions in such a short piece of ciphertext, so a key\n",
    "of length 5 is where the cryptanalyst will begin their work.\n",
    "\n",
    "A key of\n",
    "length 5 means that the 1st, 6th, 11th, 16th, etc., letters are all\n",
    "enciphered using the same key letter and hence the same alphabet from\n",
    "the Vigenère table. Similarly, the 2nd, 7th, 12th, 17th, etc. letters\n",
    "are all enciphered with the next key alphabet. So if we break up the\n",
    "cryptogram into 5 groups of letters we then have 5 monoalphabetic\n",
    "substitution ciphertexts. We can then do a frequency analysis of each\n",
    "group and solve each group separately. And in a standard shifted\n",
    "alphabet as in the normal Vigenère table, if we can find a single cipher\n",
    "alphabet letter we then have the entire alphabet.[^1]"
   ]
  },
  {
   "cell_type": "markdown",
   "id": "b9f48227",
   "metadata": {},
   "source": [
    "### Why It Works\n",
    "The Vigenère cipher's weakness lies in key repetition. Once the key length is known, the cipher becomes multiple simple Caesar ciphers that can be broken using frequency analysis."
   ]
  },
  {
   "cell_type": "markdown",
   "id": "6aedc7f0",
   "metadata": {},
   "source": [
    "[^1]: Dooley, John F. History of Cryptography and Cryptanalysis: Codes,\n",
    "    Ciphers, and Their Algorithms. History of Computing. Cham: Springer\n",
    "    International Publishing, 2024.\n",
    "    https://doi.org/10.1007/978-3-031-67485-3. p. 76.\n"
   ]
  }
 ],
 "metadata": {
  "kernelspec": {
   "display_name": "Python 3",
   "language": "python",
   "name": "python3"
  },
  "language_info": {
   "name": "python",
   "version": "3.x"
  }
 },
 "nbformat": 4,
 "nbformat_minor": 5
}
