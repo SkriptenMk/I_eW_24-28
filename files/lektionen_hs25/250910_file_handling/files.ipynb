{
 "cells": [
  {
   "cell_type": "markdown",
   "id": "94a7d19d",
   "metadata": {},
   "source": [
    "To edit text files in Python, we write a function that assigns the\n",
    "content of a file to a variable as a string. \n"
   ]
  },
  {
   "cell_type": "code",
   "execution_count": 1,
   "id": "e2204579",
   "metadata": {},
   "outputs": [],
   "source": [
    "def file_reader(path : str) -> str:\n",
    "\n",
    "    with open(path, mode='r', encoding='utf-8') as f:\n",
    "        text = f.read()\n",
    "\n",
    "    return text"
   ]
  },
  {
   "cell_type": "markdown",
   "id": "5274356d",
   "metadata": {},
   "source": [
    "To write encrypted or decrypted text to a file in Python, we write a\n",
    "function that writes a string to a file. "
   ]
  },
  {
   "cell_type": "code",
   "execution_count": 4,
   "id": "5cf6a8b5",
   "metadata": {},
   "outputs": [],
   "source": [
    "def file_writer(path : str, text : str) -> None:\n",
    "    i = 0\n",
    "    grouped_text = \"\"\n",
    "    for c in text:\n",
    "        i += 1\n",
    "        if i % 50 == 0:\n",
    "            grouped_text += c + \"\\n\"\n",
    "        elif i % 5 == 0:\n",
    "            grouped_text += c + \" \"\n",
    "        else:\n",
    "            grouped_text += c\n",
    "        \n",
    "    with open(path, mode='w', encoding='utf-8') as f:\n",
    "        f.write(grouped_text)"
   ]
  },
  {
   "cell_type": "markdown",
   "id": "b62ce2fe",
   "metadata": {},
   "source": [
    "To ensure that texts consist exclusively of ASCII uppercase letters, we\n",
    "write a function that converts all lowercase letters to uppercase and\n",
    "converts all umlauts to their equivalent letters. All other characters\n",
    "are removed. "
   ]
  },
  {
   "cell_type": "code",
   "execution_count": 3,
   "id": "fbd7c80a",
   "metadata": {},
   "outputs": [],
   "source": [
    "def text_cleaning(text : str) -> str:\n",
    "    clean = text.upper() \\\n",
    "                .replace('Ä', 'AE') \\\n",
    "                .replace('Ö', 'OE') \\\n",
    "                .replace('Ü', 'UE') \\\n",
    "                .replace('ß', 'SS') \\\n",
    "                .replace(' ', '') \\\n",
    "\n",
    "    cleaned_text = ''\n",
    "\n",
    "    for c in clean:\n",
    "        if c.isalpha():\n",
    "            cleaned_text += c\n",
    "    \n",
    "    return cleaned_text"
   ]
  }
 ],
 "metadata": {
  "kernelspec": {
   "display_name": ".venv",
   "language": "python",
   "name": "python3"
  },
  "language_info": {
   "codemirror_mode": {
    "name": "ipython",
    "version": 3
   },
   "file_extension": ".py",
   "mimetype": "text/x-python",
   "name": "python",
   "nbconvert_exporter": "python",
   "pygments_lexer": "ipython3",
   "version": "3.13.5"
  }
 },
 "nbformat": 4,
 "nbformat_minor": 5
}
