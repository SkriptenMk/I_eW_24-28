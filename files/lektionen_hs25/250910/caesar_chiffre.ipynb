{
 "cells": [
  {
   "cell_type": "markdown",
   "metadata": {},
   "source": [
    "In cryptography, encryption (more specifically, encoding) is the process\n",
    "of transforming information in a way that, ideally, only authorized\n",
    "parties can decode. This process converts the original representation of\n",
    "the information, known as plaintext, into an alternative form known as\n",
    "ciphertext. Despite its goal, encryption does not itself prevent\n",
    "interference but denies the intelligible content to a would-be\n",
    "interceptor.  \n",
    "*From [Wikipedia](https://en.wikipedia.org/wiki/Encryption)*"
   ]
  },
  {
   "cell_type": "markdown",
   "metadata": {},
   "source": [
    "The first example of a cipher we will look at is the Caesar cipher.\n",
    "\n",
    "The Caesar cipher is a simple substitution encryption technique in which\n",
    "each letter of the text to be encrypted is replaced by a letter a fixed\n",
    "number of positions away in the alphabet. For example, using a right\n",
    "letter shift of four, `A` would be replaced by `E`, and the word `CIPHER`\n",
    "would become `GMTLIV`. The technique is named after Julius Caesar, who\n",
    "used it in his letters. The simplicity of the Caesar cipher makes it a\n",
    "popular source for recreational cryptograms.  \n",
    "*From [Encyclopedia Britannica](https://www.britannica.com/topic/Caesar-cipher)*"
   ]
  },
  {
   "cell_type": "markdown",
   "metadata": {},
   "source": [
    "## Python Implementation"
   ]
  },
  {
   "cell_type": "markdown",
   "metadata": {},
   "source": [
    "To implement the Caesar cipher in Python, we build on the string methods\n",
    "offered by Python. The `ord` function returns the \n",
    "<a href=\"https://home.unicode.org/\" target=\"_blank\">\n",
    "Unicode\n",
    "</a>\n",
    "code point for\n",
    "a given character, and the `chr` function returns the character that\n",
    "corresponds to a given Unicode code point."
   ]
  },
  {
   "cell_type": "code",
   "execution_count": null,
   "metadata": {},
   "outputs": [],
   "source": [
    "# What is the Unicode code point of the character 'A'?"
   ]
  },
  {
   "cell_type": "markdown",
   "metadata": {},
   "source": [
    "### Simple Implementation"
   ]
  },
  {
   "cell_type": "markdown",
   "metadata": {},
   "source": [
    "First, we define a function that encrypts a given plaintext by shifting\n",
    "each letter by a specified number of positions in the alphabet."
   ]
  },
  {
   "cell_type": "code",
   "execution_count": 2,
   "metadata": {},
   "outputs": [],
   "source": [
    "plain = \"CIPHER\"\n",
    "shift = 4"
   ]
  },
  {
   "cell_type": "code",
   "execution_count": 6,
   "metadata": {},
   "outputs": [],
   "source": [
    "def caesar_encode(plain, shift):\n",
    "    cipher = \"\"\n",
    "    \n",
    "    for char in plain:\n",
    "        shifted = ord(char) + shift\n",
    "        cipher += chr(shifted)\n",
    "        \n",
    "    return cipher"
   ]
  },
  {
   "cell_type": "markdown",
   "metadata": {},
   "source": [
    "But what happens if we reach the end of the alphabet? For example, if we shift\n",
    "`Z` by 4 positions, we would go past `Z`. To handle this, we can use the modulo\n",
    "operator `%` to wrap around the alphabet. The modulo operator gives the remainder\n",
    "of a division operation, which allows us to \"wrap around\" when we exceed the\n",
    "length of the alphabet. In the case of the Caesar cipher, we can use it to\n",
    "ensure that our shifted positions stay within the bounds of the\n",
    "alphabet.\n",
    "\n",
    "Therefore, we will use modulo 26 (the number of letters in the English alphabet)\n",
    "to ensure that our shifted positions wrap around correctly. For example, if we shift\n",
    "`Z` by 4 positions, we would end up at `D`. This wrapping behavior is essential\n",
    "for the Caesar cipher to function correctly.  \n",
    "The calculation for the new position of a letter can be expressed as:\n",
    "\n",
    "$$\n",
    "x' = (x + n) \\mod 26\n",
    "$$\n",
    "\n",
    "or, in another notation:\n",
    "\n",
    "$$\n",
    "x' = x \\oplus_{26} n\n",
    "$$\n",
    "\n",
    "Let's implement this in Python:"
   ]
  },
  {
   "cell_type": "code",
   "execution_count": 6,
   "metadata": {},
   "outputs": [],
   "source": [
    "def caesar_encode_mod(plain, shift):\n",
    "    cipher = \"\"\n",
    "    \n",
    "    for char in plain:\n",
    "        shifted = (ord(char) - ord('A') + shift) % 26 + ord('A')\n",
    "        cipher += chr(shifted)\n",
    "        \n",
    "    return cipher"
   ]
  },
  {
   "cell_type": "markdown",
   "metadata": {},
   "source": [
    "Because\n",
    "\n",
    "```python\n",
    "ord('A')\n",
    "```\n",
    "returns 65, we need to subtract 65 from the result of `ord('A')` to get\n",
    "0. This gives us the 0-based index of the letter in the alphabet, which\n",
    "is useful for our calculations. \n",
    "\n",
    "This is why there is this calculation in the code above."
   ]
  },
  {
   "cell_type": "markdown",
   "metadata": {},
   "source": [
    "For the decryption, we can simply subtract the shift value instead of adding it:"
   ]
  },
  {
   "cell_type": "code",
   "execution_count": 7,
   "metadata": {},
   "outputs": [],
   "source": [
    "def caesar_dencode_mod(plain, shift):\n",
    "    cipher = \"\"\n",
    "    \n",
    "    for char in plain:\n",
    "        shifted = (ord(char) - ord('A') - shift) % 26 + ord('A')\n",
    "        cipher += chr(shifted)\n",
    "        \n",
    "    return cipher"
   ]
  },
  {
   "cell_type": "code",
   "execution_count": 9,
   "metadata": {},
   "outputs": [
    {
     "name": "stdout",
     "output_type": "stream",
     "text": [
      "ZIEL\n"
     ]
    }
   ],
   "source": [
    "print(caesar_dencode_mod(caesar_encode_mod('ZIEL', shift), shift))"
   ]
  },
  {
   "cell_type": "code",
   "execution_count": 1,
   "metadata": {},
   "outputs": [],
   "source": [
    "import string\n",
    "import datetime"
   ]
  },
  {
   "cell_type": "code",
   "execution_count": 3,
   "metadata": {},
   "outputs": [],
   "source": [
    "abc = [char for char in string.ascii_lowercase]"
   ]
  },
  {
   "cell_type": "code",
   "execution_count": 4,
   "metadata": {},
   "outputs": [],
   "source": [
    "shift = 12"
   ]
  },
  {
   "cell_type": "code",
   "execution_count": 10,
   "metadata": {},
   "outputs": [],
   "source": [
    "abc_vorn = abc[0:shift]\n",
    "abc_hinten = abc[shift:len(abc)]\n",
    "abc_geheim = abc_hinten + abc_vorn\n",
    "\n",
    "chiffrier_tabelle = {}\n",
    "\n",
    "for i in range(len(abc)):\n",
    "    chiffrier_tabelle[abc[i]] = abc_geheim[i] \n",
    "    \n",
    "test_text = 'hello world'"
   ]
  },
  {
   "cell_type": "code",
   "execution_count": 13,
   "metadata": {},
   "outputs": [
    {
     "data": {
      "text/plain": [
       "'tqxxaiadxp'"
      ]
     },
     "execution_count": 13,
     "metadata": {},
     "output_type": "execute_result"
    }
   ],
   "source": [
    "geheim_text = ''\n",
    "\n",
    "for bst in test_text:\n",
    "    for key, value in chiffrier_tabelle.items():\n",
    "        if key == bst:\n",
    "            geheim_text += value\n",
    "            \n",
    "geheim_text"
   ]
  },
  {
   "cell_type": "code",
   "execution_count": 14,
   "metadata": {},
   "outputs": [],
   "source": [
    "dechiffrier_tabelle = {}"
   ]
  },
  {
   "cell_type": "code",
   "execution_count": 16,
   "metadata": {},
   "outputs": [
    {
     "data": {
      "text/plain": [
       "{'m': 'a',\n",
       " 'n': 'b',\n",
       " 'o': 'c',\n",
       " 'p': 'd',\n",
       " 'q': 'e',\n",
       " 'r': 'f',\n",
       " 's': 'g',\n",
       " 't': 'h',\n",
       " 'u': 'i',\n",
       " 'v': 'j',\n",
       " 'w': 'k',\n",
       " 'x': 'l',\n",
       " 'y': 'm',\n",
       " 'z': 'n',\n",
       " 'a': 'o',\n",
       " 'b': 'p',\n",
       " 'c': 'q',\n",
       " 'd': 'r',\n",
       " 'e': 's',\n",
       " 'f': 't',\n",
       " 'g': 'u',\n",
       " 'h': 'v',\n",
       " 'i': 'w',\n",
       " 'j': 'x',\n",
       " 'k': 'y',\n",
       " 'l': 'z'}"
      ]
     },
     "execution_count": 16,
     "metadata": {},
     "output_type": "execute_result"
    }
   ],
   "source": [
    "for key, value in chiffrier_tabelle.items():\n",
    "    dechiffrier_tabelle[value] = key\n",
    "    \n",
    "dechiffrier_tabelle"
   ]
  },
  {
   "cell_type": "code",
   "execution_count": 18,
   "metadata": {},
   "outputs": [
    {
     "data": {
      "text/plain": [
       "'helloworld'"
      ]
     },
     "execution_count": 18,
     "metadata": {},
     "output_type": "execute_result"
    }
   ],
   "source": [
    "entschluesselter_text = ''\n",
    "\n",
    "for bst in geheim_text:\n",
    "    for key, value in dechiffrier_tabelle.items():\n",
    "        if bst == key:\n",
    "            entschluesselter_text += value\n",
    "            \n",
    "entschluesselter_text"
   ]
  },
  {
   "cell_type": "code",
   "execution_count": 2,
   "metadata": {},
   "outputs": [],
   "source": [
    "def shift(key: int) -> dict:\n",
    "    '''Die Funktion erstellt ein um den Wert key (bzw. key mod) \n",
    "    verschobenes Dictionary für lateinische Kleinbuchstaben.'''\n",
    "    key = key % 26\n",
    "    \n",
    "    alphabet = [char for char in string.ascii_lowercase]\n",
    "    shifted_alphabet = alphabet[key:len(alphabet)] + alphabet[0:key]\n",
    "    \n",
    "    table = {}\n",
    "    \n",
    "    for i in range(len(alphabet)):\n",
    "        table[alphabet[i]] = shifted_alphabet[i]\n",
    "        \n",
    "    return table"
   ]
  },
  {
   "cell_type": "code",
   "execution_count": 18,
   "metadata": {},
   "outputs": [],
   "source": [
    "def crypto(text: string, key: int, encrypt:bool=True) -> str:\n",
    "    table = shift(key)\n",
    "    result = ''\n",
    "    for char in text:\n",
    "        for key, value in table.items():\n",
    "            if encrypt:\n",
    "                if char == key:\n",
    "                    result += value\n",
    "            else:\n",
    "                if char == value:\n",
    "                    result += key\n",
    "    return result"
   ]
  },
  {
   "cell_type": "code",
   "execution_count": 21,
   "metadata": {},
   "outputs": [],
   "source": [
    "def text_cleaning(text: str) -> str:\n",
    "    text = text.lower()\n",
    "    text = text.replace('ä', 'ae')\n",
    "    text = text.replace('ö', 'oe')\n",
    "    text = text.replace('ü', 'ue')\n",
    "    \n",
    "    return text\n",
    "    "
   ]
  },
  {
   "cell_type": "code",
   "execution_count": 10,
   "metadata": {},
   "outputs": [],
   "source": [
    "def text_reader(path: str) -> str:\n",
    "    with open(path, 'r', encoding='utf-8') as file:\n",
    "        lines = [line.rstrip() for line in file]\n",
    "        \n",
    "        text = ''\n",
    "        for line in lines:\n",
    "            text += line\n",
    "            \n",
    "    return text"
   ]
  },
  {
   "cell_type": "code",
   "execution_count": 27,
   "metadata": {},
   "outputs": [],
   "source": [
    "def text_writer(text: str, path:str=''):\n",
    "    output_text = ''\n",
    "    for i in range(len(text)):\n",
    "        if i % 72 == 0:\n",
    "            output_text += '\\n'\n",
    "            output_text += text[i]\n",
    "        else:\n",
    "            output_text += text[i]\n",
    "            \n",
    "    now = datetime.datetime.now()\n",
    "    date_string = now.strftime(\"%Y%m%d_%H-%M-%S\") + f'-{now.microsecond}'\n",
    "    file_name = f'{date_string}_output.txt'\n",
    "    \n",
    "    with open(file_name, 'w', encoding='utf-8') as file:\n",
    "        file.write(output_text)     "
   ]
  },
  {
   "cell_type": "code",
   "execution_count": 28,
   "metadata": {},
   "outputs": [],
   "source": [
    "def caesar(input_file: str, shift: int, encryption: bool= True) -> None:\n",
    "    text = text_reader(input_file)\n",
    "    text = text_cleaning(text)\n",
    "    text = crypto(text, shift)\n",
    "    text_writer(text)"
   ]
  }
 ],
 "metadata": {
  "kernelspec": {
   "display_name": ".venv",
   "language": "python",
   "name": "python3"
  },
  "language_info": {
   "codemirror_mode": {
    "name": "ipython",
    "version": 3
   },
   "file_extension": ".py",
   "mimetype": "text/x-python",
   "name": "python",
   "nbconvert_exporter": "python",
   "pygments_lexer": "ipython3",
   "version": "3.13.5"
  }
 },
 "nbformat": 4,
 "nbformat_minor": 2
}
