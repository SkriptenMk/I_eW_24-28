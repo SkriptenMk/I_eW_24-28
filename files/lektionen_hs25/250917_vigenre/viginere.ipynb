{
 "cells": [
  {
   "cell_type": "markdown",
   "id": "4f9ece3d",
   "metadata": {},
   "source": [
    "## Weaknesses of Monoalphabetic Ciphers"
   ]
  },
  {
   "cell_type": "markdown",
   "id": "d12e3ce8",
   "metadata": {},
   "source": [
    "As early as the 9th century, the great weakness of monoalphabetic\n",
    "ciphers (Caesar cipher) was recognized in the Islamic world. The\n",
    "distribution of letters follows a specific but constant pattern in every\n",
    "language. As explained in the last section, the letter 'e' is by far the\n",
    "most common letter in the English language."
   ]
  },
  {
   "cell_type": "markdown",
   "id": "dfabad2b",
   "metadata": {},
   "source": [
    "To demonstrate that this applies to any given (longer) texts, the text\n",
    "of the \n",
    "<a href=\"https://thekingsbible.com/Bible/66/1\" target=\"_blank\">\n",
    "Book of Revelations from the King James Bible\n",
    "</a>\n",
    "was analyzed. The resulting distribution of letters was plotted against\n",
    "the distribution from the table. The result is shown in the figure\n",
    "below.\n"
   ]
  },
  {
   "cell_type": "code",
   "execution_count": 2,
   "id": "a728e7bf",
   "metadata": {
    "tags": [
     "hide_input"
    ]
   },
   "outputs": [],
   "source": [
    "import string\n",
    "\n",
    "def file_reader(path : str) -> str:\n",
    "\n",
    "    with open(path, mode='r', encoding='utf-8') as f:\n",
    "        text = f.read()\n",
    "\n",
    "    return text\n",
    "\n",
    "def text_cleaning(text : str) -> str:\n",
    "    clean = text.upper() \\\n",
    "                .replace('Ä', 'AE') \\\n",
    "                .replace('Ö', 'OE') \\\n",
    "                .replace('Ü', 'UE') \\\n",
    "                .replace('ß', 'SS') \\\n",
    "                .replace(' ', '') \\\n",
    "\n",
    "    cleaned_text = ''\n",
    "\n",
    "    for c in clean:\n",
    "        if c.isalpha():\n",
    "            cleaned_text += c\n",
    "    \n",
    "    return cleaned_text\n",
    "\n",
    "def file_writer(path : str, text : str) -> None:\n",
    "    i = 0\n",
    "    grouped_text = \"\"\n",
    "    for c in text:\n",
    "        i += 1\n",
    "        if i % 50 == 0:\n",
    "            grouped_text += c + \"\\n\"\n",
    "        elif i % 5 == 0:\n",
    "            grouped_text += c + \" \"\n",
    "        else:\n",
    "            grouped_text += c\n",
    "        \n",
    "    with open(path, mode='w', encoding='utf-8') as f:\n",
    "        f.write(grouped_text)\n",
    "        \n",
    "revelation = file_reader('revelation.txt')\n",
    "cleaned_revelation = text_cleaning(revelation)\n",
    "file_writer('cleaned_revelation.txt', cleaned_revelation)"
   ]
  },
  {
   "cell_type": "code",
   "execution_count": null,
   "id": "07833c3f",
   "metadata": {
    "tags": [
     "hide_input"
    ]
   },
   "outputs": [
    {
     "name": "stdout",
     "output_type": "stream",
     "text": [
      "{'T': 9.887444810646103, 'H': 8.931865762908608, 'E': 13.10449184337624, 'R': 5.368654519826711, 'V': 1.1379889310366271, 'L': 3.532118649337728, 'A': 9.193043550359638, 'I': 5.69201749476608, 'O': 7.058018779926621, 'N': 7.5409904027527315, 'F': 2.5288642911925048, 'J': 0.11815185622784652, 'S': 5.683726136434301, 'U': 2.2386667495802497, 'C': 1.7411852496735276, 'W': 2.4065667557987687, 'G': 1.8178803142424809, 'D': 5.3728001989926, 'M': 2.1909914391725223, 'Y': 1.2893062205915884, 'P': 1.2312667122691376, 'B': 1.2126111560226354, 'K': 0.6342889123810708, 'Q': 0.043529631241838194, 'X': 0.03523827291005949, 'Z': 0.008291358331778704}\n"
     ]
    }
   ],
   "source": [
    "def letter_frequency(text: str) -> dict:\n",
    "    frequency = {}\n",
    "    total_letters = 0\n",
    "    \n",
    "    for char in text:\n",
    "        if char not in frequency:\n",
    "            frequency[char] = 1\n",
    "        else:\n",
    "            frequency[char] += 1\n",
    "        total_letters += 1\n",
    "        \n",
    "    for key, value in frequency.items():\n",
    "        frequency[key] = (value / total_letters) * 100\n",
    "        \n",
    "           \n",
    "    return frequency\n",
    "\n",
    "frequency_revelation = letter_frequency(cleaned_revelation)"
   ]
  },
  {
   "cell_type": "code",
   "execution_count": 9,
   "id": "00623a62",
   "metadata": {
    "tags": [
     "hide_input"
    ]
   },
   "outputs": [],
   "source": [
    "import pandas as pd\n",
    "import matplotlib.pyplot as plt\n",
    "import numpy as np"
   ]
  },
  {
   "cell_type": "code",
   "execution_count": 18,
   "id": "7138fcc5",
   "metadata": {
    "tags": [
     "hide_input"
    ]
   },
   "outputs": [],
   "source": [
    "standard_frequency = {\n",
    "    'E': 12.02,\n",
    "    'T': 9.10,\n",
    "    'A': 8.12,\n",
    "    'O': 7.68,\n",
    "    'I': 7.31,\n",
    "    'N': 6.95,\n",
    "    'S': 6.28,\n",
    "    'R': 6.02,\n",
    "    'H': 5.92,\n",
    "    'D': 4.32,\n",
    "    'L': 4.03,\n",
    "    'C': 2.78,\n",
    "    'U': 2.76,\n",
    "    'M': 2.41,\n",
    "    'W': 2.36,\n",
    "    'F': 2.23,\n",
    "    'G': 2.02,\n",
    "    'Y': 1.97,\n",
    "    'P': 1.93,\n",
    "    'B': 1.49,\n",
    "    'V': 0.98,\n",
    "    'K': 0.77,\n",
    "    'J': 0.15,\n",
    "    'X': 0.15,\n",
    "    'Q': 0.10,\n",
    "    'Z': 0.07\n",
    "}\n",
    "\n",
    "df = pd.DataFrame.from_dict([standard_frequency, frequency_revelation])\n",
    "df.index = ['Standard Frequency', 'Revelation Frequency']\n",
    "dft = df.T\n",
    "dft = dft.sort_index()\n",
    "dft['Standard Frequency'] = dft['Standard Frequency'].astype(float)\n",
    "dft['Revelation Frequency'] = dft['Revelation Frequency'].astype(float)"
   ]
  },
  {
   "cell_type": "code",
   "execution_count": 17,
   "id": "0ddd159a",
   "metadata": {
    "tags": [
     "hide_input"
    ]
   },
   "outputs": [
    {
     "data": {
      "image/png": "[encoded data removed]",
      "text/plain": [
       "<Figure size 1200x700 with 1 Axes>"
      ]
     },
     "metadata": {},
     "output_type": "display_data"
    }
   ],
   "source": [
    "# --- Erstellen Sie das Side-by-Side-Balkendiagramm ---\n",
    "# Legen Sie die Breite der Balken fest\n",
    "bar_width = 0.35\n",
    "\n",
    "# Verwenden Sie den Index des transponierten DataFrames (dft)\n",
    "x = np.arange(len(dft.index))\n",
    "\n",
    "fig, ax = plt.subplots(figsize=(12, 7))\n",
    "\n",
    "# Zeichnen Sie die Balken für die beiden Spalten aus dft\n",
    "ax.bar(x - bar_width/2, dft['Standard Frequency'], bar_width, label='Standard Frequency')\n",
    "ax.bar(x + bar_width/2, dft['Revelation Frequency'], bar_width, label='Revelation Frequency')\n",
    "\n",
    "ax.set_xticks(x)\n",
    "ax.set_xticklabels(dft.index)\n",
    "\n",
    "ax.set_xlabel('Letters')\n",
    "ax.set_ylabel('Frequency (%)')\n",
    "ax.set_title('Comparison of Letter Frequencies')\n",
    "ax.legend()\n",
    "plt.tight_layout()\n",
    "plt.show()"
   ]
  },
  {
   "cell_type": "markdown",
   "id": "75acd006",
   "metadata": {},
   "source": [
    "\n",
    "![](plain.svg)\n",
    "\n",
    "Die Grafik zeigt, dass bei einer Textlänge von 13'343 Buchstaben die Verteilung\n",
    "in einem literarischen Text nahezu identisch ist, mit der allgemeinen\n",
    "Häufigkeitsverteilung in der deutschen Sprache.\n",
    "\n",
    "Die nächste Grafik zeigt, was mit der Verteilung der Buchstaben geschieht, wenn\n",
    "der gleiche Text mit einer Caesar-Chiffre verschlüsselt worden ist.\n",
    "\n",
    "![](cipher.svg)\n",
    "\n",
    "Es ist deutlich zu erkennen, dass die Verteilung dem gleichen Muster folgt -\n",
    "verschoben um fünf Positionen. Diese Auswertung ermöglicht die Entschlüsselung\n",
    "des Textes, ohne alle möglichen Schlüsselalphabete durchzuprobieren.\n",
    "\n",
    "## Vigenère Chiffre\n",
    "\n",
    "Bei der Vigenère Chiffre handelt es sich um eine polyalphabetische Chiffre. Das\n",
    "Verfahren ist nach Blaise de Vigenère (1523 - 1596) benannt. polyalphabetisch\n",
    "heisst, dass zur Verschlüsselung nicht eine Verschiebung vorgenommen wird\n",
    "sondern - nach jedem Buchstaben wechselnd - mehrere Verschiebungen\n",
    "vorgenommen werden.\n",
    "\n",
    "Um das zu erreichen, verwendet man ein sogenanntes Vigenère-Quadrat wie unten\n",
    "abgebildet. \n",
    "\n",
    "![](vigenere_square_shading.svg)\n",
    "\n",
    "Für die Verschlüsselung eines Klartextes braucht das Vigenère Verfahren ein\n",
    "Schlüsselwort. Das Schlüsselwort sollte möglichst lang sein. Das folgende\n",
    "Beispiel soll zeigen, wie das Vigenère Verfahren funktioniert. Der zu\n",
    "verschlüsselnde Klartext lautet 'Kryptologie ist spannend' und der\n",
    "Schlüssel\n",
    "'Buelrain'. Als Hilfestellung werden Text und Schlüssel in einer Tabelle\n",
    "dargestellt.\n",
    "\n",
    "```\n",
    "kryptologieistspannend\n",
    "buelrainbuelrainbuelra\n",
    "```\n",
    "\n",
    "Der Schlüssel wir dabei ohne Wortabstand so oft wiederholt, bis die\n",
    "Buchstabenfolge des Schlüssels gleich lang ist, wie die Buchstabenfolge, welche\n",
    "zu verschlüsseln ist.  \n",
    "Als nächstes wird der zu verschlüsselnde Buchstabe in der Kopfzeile des Vigenère\n",
    "Quadrates gesucht. Damit wird die Spalte mit dem verschobenen Alphabet\n",
    "identifiziert. Der chiffrierte Buchstaben ergibt sich, indem in der Spalte mit\n",
    "den Zeilenköpfen der unter dem zu chiffrierenden Buchstaben befindliche\n",
    "Buchstabe des Schlüssels gesucht wird. Der Schnittpunkt der Zeile mit der vorher\n",
    "gefundenen Spalte entspricht dem chiffrierten Buchstaben.\n",
    "\n",
    "```\n",
    "kryptologieistspannend\n",
    "buelrainbuelrainbuelra\n",
    "\n",
    "LLCAKOTBHCITJTACBHRPED\n",
    "```\n",
    "\n",
    "Alternativ kann eine Verschlüsselung mit der Vigenère Chiffre auch mit modularer\n",
    "Arithmetik umgesetzt werde. Dazu wird jedem Buchstaben ein Zahlenwert nach dem\n",
    "Muster $a = 0, b = 1, ... , z = 25$ zugewiesen. Die Verschlüsselung erfolgt\n",
    "anschliessend nach der 'Formel' $C_i = (P_i + K_i) mod 26$ Wobei die Buchstaben\n",
    "$C$ für den chiffrierten Text, $P$ für den Klartext (Englisch *plain text*) und\n",
    "$K$ für den Schlüssel (Englisch *key*) stehen. Der Index $_i$ steht für den\n",
    "$i$-ten Buchstaben in der Textfolge.\n",
    "\n",
    "Das obige Beispiel stellt sich dann folgendermassen dar:\n",
    "\n",
    "```\n",
    " k  r  y  p  t  o  l  o  g  i  e  i  s  t  s  p  a  n  n  e  n  d\n",
    "10 17 24 15 19 14 11 14 06 08 04 08 18 19 18 15 00 13 13 04 13 03\n",
    " b  u  e  l  r  a  i  n  b  u  e  l  r  a  i  n  b  u  e  l  r  a\n",
    "01 20 04 11 17 00 08 13 01 20 04 11 17 00 08 13 01 20 04 11 17 00\n",
    "\n",
    "11 37 28 26 36 14 19 27 07 28 08 19 35 19 26 28 01 33 17 15 30 03\n",
    "\n",
    "11 11 02 00 10 14 19 01 07 02 08 19 09 19 00 02 01 07 17 15 04 03\n",
    " L  L  C  A  K  O  T  B  H  C  I  T  J  T  A  C  B  H  R  P  E  D\n",
    "```\n",
    "\n",
    "Für die Entschlüsselung wird die 'Formel' folgendermassen umgekehrt: \n",
    "$P_i = (C_i - K_i + 26) mod 26$. Die Addition von 26 in der Klammer erfolgt, um\n",
    "negative Zahlen zu vermeiden.\n",
    "\n",
    "Wie sich die Vigenère Verschlüsselung auf die Verteilung der Buchstaben\n",
    "auswirkt, kann untenstehender Grafik entnommen werden.\n",
    "\n",
    "![](vigenere.svg)\n",
    "\n",
    "Wie unschwer zu erkennen ist, stellt sich die Verteilung der Buchstaben in einem\n",
    "polyalphabetisch verschlüsselten Text deutlich anders dar, als dies in normalen\n",
    "Text der Fall ist. Die Vigenère Chiffre galt daher während ungefähr 300 Jahren\n",
    "als 'la chiffre indéchiffrable'.\n",
    "\n",
    "Ein Spezialfall der Vigenère Chiffre ist tatsächlich nicht zu entschlüsseln. Das\n",
    "ist dann der Fall, wenn der Schlüssel länger ist als der Klartext.\n",
    "Man spricht in diesem Fall vom One-Time Pad."
   ]
  }
 ],
 "metadata": {
  "kernelspec": {
   "display_name": ".venv",
   "language": "python",
   "name": "python3"
  },
  "language_info": {
   "codemirror_mode": {
    "name": "ipython",
    "version": 3
   },
   "file_extension": ".py",
   "mimetype": "text/x-python",
   "name": "python",
   "nbconvert_exporter": "python",
   "pygments_lexer": "ipython3",
   "version": "3.13.5"
  }
 },
 "nbformat": 4,
 "nbformat_minor": 5
}
