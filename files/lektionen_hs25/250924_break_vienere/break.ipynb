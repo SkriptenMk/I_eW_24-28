{
 "cells": [
  {
   "cell_type": "markdown",
   "metadata": {},
   "source": [
    "# 10 Breaking the Vigenère Cipher"
   ]
  },
  {
   "cell_type": "markdown",
   "id": "b8062ded",
   "metadata": {},
   "source": [
    "The crucial weakness of the Vigenère cipher was discovered independently\n",
    "by two men in the midst of the 19th century. One of them was Charles\n",
    "Babbage, a British polymath. He discovered the weakness in order to win\n",
    "a bet. The other was Friedrich Wilhelm Kasiski, who was a retired Major\n",
    "of the Prussian army. Who, after retirement, spent his time writing.  \n",
    "The method of breaking the Vigenère cipher is named after Prussian Major\n",
    "Kasiski. "
   ]
  },
  {
   "cell_type": "markdown",
   "id": "45d9387c",
   "metadata": {},
   "source": [
    "## The Kasiski Method - Summary\n",
    "\n",
    "The **Kasiski method** is a technique for breaking the Vigenère cipher by exploiting repeated patterns in the ciphertext. Here's how it works:\n",
    "\n",
    "### Key Principle\n",
    "When the same plaintext sequence is encrypted with the same portion of the key, it produces identical ciphertext sequences. By finding these repetitions, we can determine the key length.\n",
    "\n",
    "### Step-by-Step Process\n",
    "\n",
    "1. **Find Repeated Sequences**\n",
    "   - Scan the ciphertext for identical sequences of 3+ characters\n",
    "   - Record the positions where these sequences occur\n",
    "\n",
    "2. **Calculate Distances**\n",
    "   - Measure the distance between repeated sequences\n",
    "   - The key length must be a divisor of these distances\n",
    "\n",
    "3. **Determine Key Length**\n",
    "   - Find the Greatest Common Divisor (GCD) of all distances\n",
    "   - Or look for the most frequent common factor\n",
    "   - This gives you the probable key length\n",
    "\n",
    "4. **Frequency Analysis**\n",
    "   - Divide the ciphertext into groups based on the key length\n",
    "   - Each group was encrypted with the same key character\n",
    "   - Apply frequency analysis to each group separately\n",
    "   - Match letter frequencies to expected language patterns\n"
   ]
  },
  {
   "cell_type": "markdown",
   "id": "21133aa3",
   "metadata": {},
   "source": [
    "### Example\n",
    "If \"THE\" appears twice in plaintext at positions where the key repeats, the corresponding ciphertext sequences will be identical. If these sequences are 15 positions apart, the key length is likely a divisor of 15 (1, 3, 5, or 15).\n"
   ]
  },
  {
   "cell_type": "markdown",
   "id": "b9f48227",
   "metadata": {},
   "source": [
    "### Why It Works\n",
    "The Vigenère cipher's weakness lies in key repetition. Once the key length is known, the cipher becomes multiple simple Caesar ciphers that can be broken using frequency analysis."
   ]
  }
 ],
 "metadata": {
  "kernelspec": {
   "display_name": "Python 3",
   "language": "python",
   "name": "python3"
  },
  "language_info": {
   "name": "python",
   "version": "3.x"
  }
 },
 "nbformat": 4,
 "nbformat_minor": 5
}
